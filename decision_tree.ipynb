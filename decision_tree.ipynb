{
 "cells": [
  {
   "cell_type": "code",
   "execution_count": 55,
   "metadata": {},
   "outputs": [],
   "source": [
    "import pandas as pd\n",
    "from sklearn.tree import DecisionTreeRegressor\n",
    "from sklearn.metrics import mean_squared_error\n",
    "import matplotlib.pyplot as plt"
   ]
  },
  {
   "cell_type": "code",
   "execution_count": 36,
   "metadata": {},
   "outputs": [
    {
     "name": "stdout",
     "output_type": "stream",
     "text": [
      "505\n"
     ]
    },
    {
     "data": {
      "text/html": [
       "<div>\n",
       "<style scoped>\n",
       "    .dataframe tbody tr th:only-of-type {\n",
       "        vertical-align: middle;\n",
       "    }\n",
       "\n",
       "    .dataframe tbody tr th {\n",
       "        vertical-align: top;\n",
       "    }\n",
       "\n",
       "    .dataframe thead th {\n",
       "        text-align: right;\n",
       "    }\n",
       "</style>\n",
       "<table border=\"1\" class=\"dataframe\">\n",
       "  <thead>\n",
       "    <tr style=\"text-align: right;\">\n",
       "      <th></th>\n",
       "      <th>CRIM</th>\n",
       "      <th>ZN</th>\n",
       "      <th>INDUS</th>\n",
       "      <th>CHAS</th>\n",
       "      <th>NOX</th>\n",
       "      <th>RM</th>\n",
       "      <th>AGE</th>\n",
       "      <th>DIS</th>\n",
       "      <th>RAD</th>\n",
       "      <th>TAX</th>\n",
       "      <th>PTRATIO</th>\n",
       "      <th>B</th>\n",
       "      <th>LSTAT</th>\n",
       "      <th>MEDV</th>\n",
       "    </tr>\n",
       "  </thead>\n",
       "  <tbody>\n",
       "    <tr>\n",
       "      <th>0</th>\n",
       "      <td>0.00632</td>\n",
       "      <td>18.0</td>\n",
       "      <td>2.31</td>\n",
       "      <td>0</td>\n",
       "      <td>0.538</td>\n",
       "      <td>6.575</td>\n",
       "      <td>65.2</td>\n",
       "      <td>4.0900</td>\n",
       "      <td>1</td>\n",
       "      <td>296.0</td>\n",
       "      <td>15.3</td>\n",
       "      <td>396.90</td>\n",
       "      <td>4.98</td>\n",
       "      <td>24.0</td>\n",
       "    </tr>\n",
       "    <tr>\n",
       "      <th>1</th>\n",
       "      <td>0.02731</td>\n",
       "      <td>0.0</td>\n",
       "      <td>7.07</td>\n",
       "      <td>0</td>\n",
       "      <td>0.469</td>\n",
       "      <td>6.421</td>\n",
       "      <td>78.9</td>\n",
       "      <td>4.9671</td>\n",
       "      <td>2</td>\n",
       "      <td>242.0</td>\n",
       "      <td>17.8</td>\n",
       "      <td>396.90</td>\n",
       "      <td>9.14</td>\n",
       "      <td>21.6</td>\n",
       "    </tr>\n",
       "    <tr>\n",
       "      <th>2</th>\n",
       "      <td>0.02729</td>\n",
       "      <td>0.0</td>\n",
       "      <td>7.07</td>\n",
       "      <td>0</td>\n",
       "      <td>0.469</td>\n",
       "      <td>7.185</td>\n",
       "      <td>61.1</td>\n",
       "      <td>4.9671</td>\n",
       "      <td>2</td>\n",
       "      <td>242.0</td>\n",
       "      <td>17.8</td>\n",
       "      <td>392.83</td>\n",
       "      <td>4.03</td>\n",
       "      <td>34.7</td>\n",
       "    </tr>\n",
       "    <tr>\n",
       "      <th>3</th>\n",
       "      <td>0.03237</td>\n",
       "      <td>0.0</td>\n",
       "      <td>2.18</td>\n",
       "      <td>0</td>\n",
       "      <td>0.458</td>\n",
       "      <td>6.998</td>\n",
       "      <td>45.8</td>\n",
       "      <td>6.0622</td>\n",
       "      <td>3</td>\n",
       "      <td>222.0</td>\n",
       "      <td>18.7</td>\n",
       "      <td>394.63</td>\n",
       "      <td>2.94</td>\n",
       "      <td>33.4</td>\n",
       "    </tr>\n",
       "    <tr>\n",
       "      <th>4</th>\n",
       "      <td>0.06905</td>\n",
       "      <td>0.0</td>\n",
       "      <td>2.18</td>\n",
       "      <td>0</td>\n",
       "      <td>0.458</td>\n",
       "      <td>7.147</td>\n",
       "      <td>54.2</td>\n",
       "      <td>6.0622</td>\n",
       "      <td>3</td>\n",
       "      <td>222.0</td>\n",
       "      <td>18.7</td>\n",
       "      <td>396.90</td>\n",
       "      <td>5.33</td>\n",
       "      <td>36.2</td>\n",
       "    </tr>\n",
       "  </tbody>\n",
       "</table>\n",
       "</div>"
      ],
      "text/plain": [
       "      CRIM    ZN  INDUS  CHAS    NOX     RM   AGE     DIS  RAD    TAX  \\\n",
       "0  0.00632  18.0   2.31     0  0.538  6.575  65.2  4.0900    1  296.0   \n",
       "1  0.02731   0.0   7.07     0  0.469  6.421  78.9  4.9671    2  242.0   \n",
       "2  0.02729   0.0   7.07     0  0.469  7.185  61.1  4.9671    2  242.0   \n",
       "3  0.03237   0.0   2.18     0  0.458  6.998  45.8  6.0622    3  222.0   \n",
       "4  0.06905   0.0   2.18     0  0.458  7.147  54.2  6.0622    3  222.0   \n",
       "\n",
       "   PTRATIO       B  LSTAT  MEDV  \n",
       "0     15.3  396.90   4.98  24.0  \n",
       "1     17.8  396.90   9.14  21.6  \n",
       "2     17.8  392.83   4.03  34.7  \n",
       "3     18.7  394.63   2.94  33.4  \n",
       "4     18.7  396.90   5.33  36.2  "
      ]
     },
     "execution_count": 36,
     "metadata": {},
     "output_type": "execute_result"
    }
   ],
   "source": [
    "df = pd.read_csv('data.csv')\n",
    "print(len(df))\n",
    "df.head()"
   ]
  },
  {
   "cell_type": "code",
   "execution_count": 37,
   "metadata": {},
   "outputs": [],
   "source": [
    "model = DecisionTreeRegressor()"
   ]
  },
  {
   "cell_type": "code",
   "execution_count": 38,
   "metadata": {},
   "outputs": [],
   "source": [
    "X_columns = [x for x in df.columns if x != 'MEDV']\n",
    "y_column = 'MEDV'"
   ]
  },
  {
   "cell_type": "code",
   "execution_count": 39,
   "metadata": {},
   "outputs": [],
   "source": [
    "df = df.sample(frac=1)\n",
    "n = int(0.8*len(df))\n",
    "train_df = df[:n]\n",
    "test_df = df[n:]"
   ]
  },
  {
   "cell_type": "code",
   "execution_count": 40,
   "metadata": {},
   "outputs": [
    {
     "data": {
      "text/html": [
       "<style>#sk-container-id-1 {color: black;}#sk-container-id-1 pre{padding: 0;}#sk-container-id-1 div.sk-toggleable {background-color: white;}#sk-container-id-1 label.sk-toggleable__label {cursor: pointer;display: block;width: 100%;margin-bottom: 0;padding: 0.3em;box-sizing: border-box;text-align: center;}#sk-container-id-1 label.sk-toggleable__label-arrow:before {content: \"▸\";float: left;margin-right: 0.25em;color: #696969;}#sk-container-id-1 label.sk-toggleable__label-arrow:hover:before {color: black;}#sk-container-id-1 div.sk-estimator:hover label.sk-toggleable__label-arrow:before {color: black;}#sk-container-id-1 div.sk-toggleable__content {max-height: 0;max-width: 0;overflow: hidden;text-align: left;background-color: #f0f8ff;}#sk-container-id-1 div.sk-toggleable__content pre {margin: 0.2em;color: black;border-radius: 0.25em;background-color: #f0f8ff;}#sk-container-id-1 input.sk-toggleable__control:checked~div.sk-toggleable__content {max-height: 200px;max-width: 100%;overflow: auto;}#sk-container-id-1 input.sk-toggleable__control:checked~label.sk-toggleable__label-arrow:before {content: \"▾\";}#sk-container-id-1 div.sk-estimator input.sk-toggleable__control:checked~label.sk-toggleable__label {background-color: #d4ebff;}#sk-container-id-1 div.sk-label input.sk-toggleable__control:checked~label.sk-toggleable__label {background-color: #d4ebff;}#sk-container-id-1 input.sk-hidden--visually {border: 0;clip: rect(1px 1px 1px 1px);clip: rect(1px, 1px, 1px, 1px);height: 1px;margin: -1px;overflow: hidden;padding: 0;position: absolute;width: 1px;}#sk-container-id-1 div.sk-estimator {font-family: monospace;background-color: #f0f8ff;border: 1px dotted black;border-radius: 0.25em;box-sizing: border-box;margin-bottom: 0.5em;}#sk-container-id-1 div.sk-estimator:hover {background-color: #d4ebff;}#sk-container-id-1 div.sk-parallel-item::after {content: \"\";width: 100%;border-bottom: 1px solid gray;flex-grow: 1;}#sk-container-id-1 div.sk-label:hover label.sk-toggleable__label {background-color: #d4ebff;}#sk-container-id-1 div.sk-serial::before {content: \"\";position: absolute;border-left: 1px solid gray;box-sizing: border-box;top: 0;bottom: 0;left: 50%;z-index: 0;}#sk-container-id-1 div.sk-serial {display: flex;flex-direction: column;align-items: center;background-color: white;padding-right: 0.2em;padding-left: 0.2em;position: relative;}#sk-container-id-1 div.sk-item {position: relative;z-index: 1;}#sk-container-id-1 div.sk-parallel {display: flex;align-items: stretch;justify-content: center;background-color: white;position: relative;}#sk-container-id-1 div.sk-item::before, #sk-container-id-1 div.sk-parallel-item::before {content: \"\";position: absolute;border-left: 1px solid gray;box-sizing: border-box;top: 0;bottom: 0;left: 50%;z-index: -1;}#sk-container-id-1 div.sk-parallel-item {display: flex;flex-direction: column;z-index: 1;position: relative;background-color: white;}#sk-container-id-1 div.sk-parallel-item:first-child::after {align-self: flex-end;width: 50%;}#sk-container-id-1 div.sk-parallel-item:last-child::after {align-self: flex-start;width: 50%;}#sk-container-id-1 div.sk-parallel-item:only-child::after {width: 0;}#sk-container-id-1 div.sk-dashed-wrapped {border: 1px dashed gray;margin: 0 0.4em 0.5em 0.4em;box-sizing: border-box;padding-bottom: 0.4em;background-color: white;}#sk-container-id-1 div.sk-label label {font-family: monospace;font-weight: bold;display: inline-block;line-height: 1.2em;}#sk-container-id-1 div.sk-label-container {text-align: center;}#sk-container-id-1 div.sk-container {/* jupyter's `normalize.less` sets `[hidden] { display: none; }` but bootstrap.min.css set `[hidden] { display: none !important; }` so we also need the `!important` here to be able to override the default hidden behavior on the sphinx rendered scikit-learn.org. See: https://github.com/scikit-learn/scikit-learn/issues/21755 */display: inline-block !important;position: relative;}#sk-container-id-1 div.sk-text-repr-fallback {display: none;}</style><div id=\"sk-container-id-1\" class=\"sk-top-container\"><div class=\"sk-text-repr-fallback\"><pre>DecisionTreeRegressor()</pre><b>In a Jupyter environment, please rerun this cell to show the HTML representation or trust the notebook. <br />On GitHub, the HTML representation is unable to render, please try loading this page with nbviewer.org.</b></div><div class=\"sk-container\" hidden><div class=\"sk-item\"><div class=\"sk-estimator sk-toggleable\"><input class=\"sk-toggleable__control sk-hidden--visually\" id=\"sk-estimator-id-1\" type=\"checkbox\" checked><label for=\"sk-estimator-id-1\" class=\"sk-toggleable__label sk-toggleable__label-arrow\">DecisionTreeRegressor</label><div class=\"sk-toggleable__content\"><pre>DecisionTreeRegressor()</pre></div></div></div></div></div>"
      ],
      "text/plain": [
       "DecisionTreeRegressor()"
      ]
     },
     "execution_count": 40,
     "metadata": {},
     "output_type": "execute_result"
    }
   ],
   "source": [
    "model.fit(train_df[X_columns], train_df[y_column])"
   ]
  },
  {
   "cell_type": "code",
   "execution_count": 41,
   "metadata": {},
   "outputs": [],
   "source": [
    "pred = model.predict(test_df[X_columns])"
   ]
  },
  {
   "cell_type": "code",
   "execution_count": 44,
   "metadata": {},
   "outputs": [],
   "source": [
    "mse = mean_squared_error(test_df[y_column], pred)"
   ]
  },
  {
   "cell_type": "code",
   "execution_count": 45,
   "metadata": {},
   "outputs": [
    {
     "data": {
      "text/plain": [
       "10.471386138613862"
      ]
     },
     "execution_count": 45,
     "metadata": {},
     "output_type": "execute_result"
    }
   ],
   "source": [
    "mse"
   ]
  },
  {
   "cell_type": "code",
   "execution_count": 46,
   "metadata": {},
   "outputs": [
    {
     "data": {
      "text/plain": [
       "{'ccp_alpha': 0.0,\n",
       " 'criterion': 'squared_error',\n",
       " 'max_depth': None,\n",
       " 'max_features': None,\n",
       " 'max_leaf_nodes': None,\n",
       " 'min_impurity_decrease': 0.0,\n",
       " 'min_samples_leaf': 1,\n",
       " 'min_samples_split': 2,\n",
       " 'min_weight_fraction_leaf': 0.0,\n",
       " 'random_state': None,\n",
       " 'splitter': 'best'}"
      ]
     },
     "execution_count": 46,
     "metadata": {},
     "output_type": "execute_result"
    }
   ],
   "source": [
    "model.get_params()"
   ]
  },
  {
   "cell_type": "code",
   "execution_count": 47,
   "metadata": {},
   "outputs": [
    {
     "data": {
      "text/plain": [
       "385"
      ]
     },
     "execution_count": 47,
     "metadata": {},
     "output_type": "execute_result"
    }
   ],
   "source": [
    "model.get_n_leaves()"
   ]
  },
  {
   "cell_type": "code",
   "execution_count": 48,
   "metadata": {},
   "outputs": [
    {
     "data": {
      "text/plain": [
       "array([12,  5,  7, -2,  5,  9,  7, -2, -2,  5,  2,  8, 10,  0, 12, -2, -2,\n",
       "        9, -2,  9, -2, -2, 12, -2,  7,  9, -2, 11,  1, -2, -2,  2,  0,  2,\n",
       "       -2, -2, 12, -2,  8, -2, -2,  5, -2,  5, 12, -2, -2, -2, -2, -2, 10,\n",
       "        0, -2, -2, -2,  5,  2,  5,  2, 11,  0,  1, -2, -2,  7, -2, -2, 12,\n",
       "       -2, 12, 12,  9, -2, -2, -2,  4, -2, -2,  0, -2,  5, -2, -2, 12,  2,\n",
       "        9, -2, -2, -2,  0, -2, -2, 10, 10,  7, 10, -2, -2, -2, -2,  6, 12,\n",
       "        9, 12,  6, 10, -2, -2, -2, -2,  5,  9,  7, -2, -2, -2,  0,  6, -2,\n",
       "       -2,  4, -2, -2, -2,  5, 11, -2, -2, 11,  4,  6, -2, -2, -2,  8, -2,\n",
       "        6, -2,  2, -2, -2, -2, 12,  4, 10, 11, 12,  4, -2, -2,  5,  2, -2,\n",
       "        9,  6, -2, -2, -2, -2,  6, -2,  7,  1, -2, -2, -2,  2, 12, -2, -2,\n",
       "       -2, -2,  7, 10, 12,  4, -2,  4, -2, -2, 10, 11, -2,  7, -2, -2,  6,\n",
       "       -2, -2, -2,  1, 11,  7, -2,  2,  8, -2, -2, -2, -2,  7,  7,  5, -2,\n",
       "        5, -2, -2, 10,  4, -2, -2, -2, -2,  5,  7, 10, -2, -2, 10,  9,  9,\n",
       "       11, -2, -2, 10,  7, 11, -2, -2,  6, 11, -2,  7, -2, -2, 10,  7, -2,\n",
       "       12, 12, -2, -2, -2, 11, -2, -2, -2,  6,  9,  5,  0,  1,  2, -2,  7,\n",
       "       11, -2, -2, -2, -2,  1, -2, -2, 11, 11, -2, -2, 11, -2,  5, -2,  6,\n",
       "       -2, -2,  0, 12, -2,  8, -2, -2,  5, -2, -2,  7, -2, -2, 11, -2, -2,\n",
       "       11, -2,  8,  0,  9, -2, -2,  2, -2, -2,  0,  0,  5, 12, -2, -2, 11,\n",
       "        8, -2, -2, -2,  5,  8, 12, -2,  5, -2, -2,  4, -2, -2, -2, -2, 12,\n",
       "        5, 12,  2,  7,  0, -2, -2, -2,  7, -2, 11,  8, -2,  4, -2, -2,  7,\n",
       "        6,  5,  6,  0,  7, 10, -2, -2,  6, -2, -2, 11,  4, -2, -2, 12, -2,\n",
       "       -2,  7, -2, 10, -2, -2, 12, -2,  2,  0, -2,  5, -2, -2, 12,  4,  6,\n",
       "        9,  5, -2, -2,  0, -2, -2, -2,  5, -2,  4, -2, -2,  8,  8, -2, -2,\n",
       "        5,  3, -2, -2, -2,  7,  3,  7,  4,  6, 11, -2, 11, -2, -2,  2, -2,\n",
       "       -2, -2,  2, -2, 12,  6,  7,  0, -2, -2, 10, -2, -2, 11,  5, 10, -2,\n",
       "       11, -2,  7, -2,  6, -2, -2, -2, 11, -2, 11,  7, -2, -2,  0,  9, -2,\n",
       "       -2, 11,  2, -2, -2, 12, -2, 11, -2, -2,  4, 11, -2, -2, -2, 11,  5,\n",
       "       -2, -2, -2, 11, -2,  0,  2,  5, -2,  0, -2, -2, -2,  6, -2, -2,  5,\n",
       "       11,  6, 12, -2,  6, -2, -2, -2,  5, -2,  1, 11, -2,  6, -2, -2, -2,\n",
       "        5,  2, -2, -2, -2,  8, 12,  0, 11, -2, -2,  7, -2, 12, -2, -2,  6,\n",
       "        9, -2,  5, -2, -2, 11, 11, -2, -2, -2,  6,  7,  0, -2, -2, -2, -2,\n",
       "        6, -2,  0, -2,  6, -2, -2,  4,  0,  0,  6,  6,  4, -2, -2,  2, 11,\n",
       "       12,  1, -2,  5, -2, -2, -2, 12,  7, -2, -2, -2,  6,  5, -2, -2, -2,\n",
       "        6,  7,  7, -2, -2, -2, 12,  5,  6,  6, -2, -2,  7, -2, -2, -2,  9,\n",
       "       -2, -2, -2,  7, 12, -2,  0, -2, -2, 11,  6, -2, 12,  9, -2, -2, 12,\n",
       "       -2,  6, -2, -2, 10, -2,  0, 12, -2, 11, -2, -2,  5, -2, -2, 12,  5,\n",
       "       12, 11, -2,  7, -2, -2, 11,  5, -2, -2,  6,  4, -2, -2, 12,  5,  6,\n",
       "       -2,  9, 10, -2, -2, -2,  6, -2, 11,  6, -2, -2, 11, -2, -2,  7, -2,\n",
       "       12,  2, 11, -2, -2, -2, 10, -2,  5, -2, -2,  0, 12, -2, -2,  7,  7,\n",
       "       -2, -2, 11,  7,  0,  6,  5, -2, -2, -2, 12, -2, -2, -2,  7, -2, 12,\n",
       "       -2, -2,  9,  7,  5, -2, -2,  5,  6, -2, 12, 11, -2, -2, -2,  7, 12,\n",
       "       -2, -2, -2,  7,  0,  7,  4, -2, -2, -2,  7,  4, -2, -2, -2,  0,  4,\n",
       "        7, -2,  0,  0, -2,  0, 11, -2, -2, 12,  5,  6,  6,  7, -2, -2, -2,\n",
       "       -2, -2, -2, -2,  6, 11,  5, -2, -2, -2,  7, 12,  7, -2, -2, -2, -2,\n",
       "       12, 12, -2,  7,  4, 11, -2,  6, -2, -2,  6, -2,  0, -2, 12, -2,  5,\n",
       "       -2, -2, -2, -2], dtype=int64)"
      ]
     },
     "execution_count": 48,
     "metadata": {},
     "output_type": "execute_result"
    }
   ],
   "source": []
  },
  {
   "cell_type": "code",
   "execution_count": 49,
   "metadata": {},
   "outputs": [
    {
     "name": "stdout",
     "output_type": "stream",
     "text": [
      "(769,) (769,)\n"
     ]
    }
   ],
   "source": [
    "features = model.tree_.feature\n",
    "th = model.tree_.threshold\n",
    "print(features.shape, th.shape)"
   ]
  },
  {
   "cell_type": "code",
   "execution_count": 51,
   "metadata": {},
   "outputs": [
    {
     "data": {
      "text/plain": [
       "('LSTAT', 9.724999904632568)"
      ]
     },
     "execution_count": 51,
     "metadata": {},
     "output_type": "execute_result"
    }
   ],
   "source": [
    "first_feature = X_columns[features[0]]\n",
    "first_feature, th[0]"
   ]
  },
  {
   "cell_type": "code",
   "execution_count": 57,
   "metadata": {},
   "outputs": [
    {
     "name": "stdout",
     "output_type": "stream",
     "text": [
      "29.813744075829387 17.343537414965986\n"
     ]
    },
    {
     "data": {
      "text/plain": [
       "<matplotlib.legend.Legend at 0x7fb388167a90>"
      ]
     },
     "execution_count": 57,
     "metadata": {},
     "output_type": "execute_result"
    },
    {
     "data": {
      "image/png": "[encoded data removed]",
      "text/plain": [
       "<Figure size 800x500 with 1 Axes>"
      ]
     },
     "metadata": {},
     "output_type": "display_data"
    }
   ],
   "source": [
    "lower = df[df[first_feature] < th[0]]\n",
    "upper = df[df[first_feature] > th[0]]\n",
    "print(lower[y_column].mean(), upper[y_column].mean())\n",
    "A = 0.5\n",
    "plt.figure(figsize=(8, 5))\n",
    "plt.title('MEDV distribution for the first split of DT Regressor')\n",
    "lower[y_column].hist(color='green', label='left branch (LSTAT < 9.72)', alpha=A)\n",
    "upper[y_column].hist(color='red', label='right branch (LSTAT > 9.72)', alpha=A)\n",
    "plt.xlabel('MEDV')\n",
    "plt.ylabel('Frequency')\n",
    "plt.legend()"
   ]
  },
  {
   "cell_type": "code",
   "execution_count": null,
   "metadata": {},
   "outputs": [],
   "source": []
  }
 ],
 "metadata": {
  "kernelspec": {
   "display_name": "Python 3",
   "language": "python",
   "name": "python3"
  },
  "language_info": {
   "codemirror_mode": {
    "name": "ipython",
    "version": 3
   },
   "file_extension": ".py",
   "mimetype": "text/x-python",
   "name": "python",
   "nbconvert_exporter": "python",
   "pygments_lexer": "ipython3",
   "version": "3.8.10"
  }
 },
 "nbformat": 4,
 "nbformat_minor": 2
}
